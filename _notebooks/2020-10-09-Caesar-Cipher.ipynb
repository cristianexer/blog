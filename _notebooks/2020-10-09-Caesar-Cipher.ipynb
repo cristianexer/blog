{
 "cells": [
  {
   "cell_type": "markdown",
   "metadata": {
    "colab_type": "text",
    "id": "kj_AccKpxhHk"
   },
   "source": [
    "# Caesar Cihpher"
   ]
  },
  {
   "cell_type": "markdown",
   "metadata": {
    "colab_type": "text",
    "id": "OJ1HGkobxsA2"
   },
   "source": [
    "![](https://encrypted-tbn0.gstatic.com/images?q=tbn%3AANd9GcSvjBxcpDzMz496i1cvrCapLVZ4BYOiHzXbnw&usqp=CAU)\n",
    "\n",
    "\n",
    "The action of a Caesar cipher is to replace each plaintext letter with a different one a fixed number of places down the alphabet. The cipher illustrated here uses a left shift of three, so that (for example) each occurrence of E in the plaintext becomes B in the ciphertext.\n",
    "In cryptography, a Caesar cipher, also known as Caesar's cipher, the shift cipher, Caesar's code or Caesar shift, is one of the simplest and most widely known encryption techniques. It is a type of substitution cipher in which each letter in the plaintext is replaced by a letter some fixed number of positions down the alphabet. For example, with a left shift of 3, D would be replaced by A, E would become B, and so on. The method is named after Julius Caesar, who used it in his private correspondence.\n",
    "\n",
    "The encryption step performed by a Caesar cipher is often incorporated as part of more complex schemes, such as the Vigenère cipher, and still has modern application in the ROT13 system. As with all single-alphabet substitution ciphers, the Caesar cipher is easily broken and in modern practice offers essentially no communications security."
   ]
  },
  {
   "cell_type": "markdown",
   "metadata": {},
   "source": [
    "We want to use this package to generate random texts"
   ]
  },
  {
   "cell_type": "code",
   "execution_count": 5,
   "metadata": {
    "colab": {},
    "colab_type": "code",
    "executionInfo": {
     "elapsed": 482,
     "status": "ok",
     "timestamp": 1598177371476,
     "user": {
      "displayName": "Cristian Fat",
      "photoUrl": "https://lh3.googleusercontent.com/a-/AOh14GjQ8w5Ul2UQlRUwgYCSBfrp7s0ILOQ7z6TNNP84ww=s64",
      "userId": "07117886627892820927"
     },
     "user_tz": -60
    },
    "id": "3IjJ2IARxcrW"
   },
   "outputs": [],
   "source": [
    "try:\n",
    "    import lorem\n",
    "except:\n",
    "    !pip install lorem\n",
    "    import lorem"
   ]
  },
  {
   "cell_type": "markdown",
   "metadata": {},
   "source": [
    "now everytime we will run this cell the s variable will have a random sentence in latin"
   ]
  },
  {
   "cell_type": "code",
   "execution_count": 6,
   "metadata": {
    "colab": {
     "base_uri": "https://localhost:8080/",
     "height": 37
    },
    "colab_type": "code",
    "executionInfo": {
     "elapsed": 508,
     "status": "ok",
     "timestamp": 1598177373591,
     "user": {
      "displayName": "Cristian Fat",
      "photoUrl": "https://lh3.googleusercontent.com/a-/AOh14GjQ8w5Ul2UQlRUwgYCSBfrp7s0ILOQ7z6TNNP84ww=s64",
      "userId": "07117886627892820927"
     },
     "user_tz": -60
    },
    "id": "L4kx_4PeytQh",
    "outputId": "09f0adfe-ceed-46a6-a461-0b8e7710f3e5"
   },
   "outputs": [
    {
     "data": {
      "application/vnd.google.colaboratory.intrinsic+json": {
       "type": "string"
      },
      "text/plain": [
       "'Tempora neque est magnam numquam.'"
      ]
     },
     "execution_count": 6,
     "metadata": {
      "tags": []
     },
     "output_type": "execute_result"
    }
   ],
   "source": [
    "s = lorem.sentence()\n",
    "s"
   ]
  },
  {
   "cell_type": "markdown",
   "metadata": {},
   "source": [
    "Using this function we and the shift parameter we can rotate the [ASCII]() code for each letter in the sentence\n",
    "\n",
    "ASCII stands for American Standard Code for Information Interchange. Computers can only understand numbers, so an ASCII code is the numerical representation of a character such as 'a' or '@' or an action of some sort. ASCII was developed a long time ago and now the non-printing characters are rarely used for their original purpose. Below is the ASCII character table and this includes descriptions of the first 32 non-printing characters. ASCII was actually designed for use with teletypes and so the descriptions are somewhat obscure. If someone says they want your CV however in ASCII format, all this means is they want 'plain' text with no formatting such as tabs, bold or underscoring - the raw format that any computer can understand. This is usually so they can easily import the file into their own applications without issues. Notepad.exe creates ASCII text, or in MS Word you can save a file as 'text only'"
   ]
  },
  {
   "cell_type": "markdown",
   "metadata": {},
   "source": [
    "![](http://www.asciitable.com/index/asciifull.gif)"
   ]
  },
  {
   "cell_type": "markdown",
   "metadata": {},
   "source": [
    "I am sure there might be multiple implementations of this function but here is mine"
   ]
  },
  {
   "cell_type": "code",
   "execution_count": 50,
   "metadata": {
    "colab": {},
    "colab_type": "code",
    "executionInfo": {
     "elapsed": 501,
     "status": "ok",
     "timestamp": 1598179657784,
     "user": {
      "displayName": "Cristian Fat",
      "photoUrl": "https://lh3.googleusercontent.com/a-/AOh14GjQ8w5Ul2UQlRUwgYCSBfrp7s0ILOQ7z6TNNP84ww=s64",
      "userId": "07117886627892820927"
     },
     "user_tz": -60
    },
    "id": "svfJUZV5zSnM"
   },
   "outputs": [],
   "source": [
    "def caesar(text,shift=3):\n",
    "    def to_cipher(x,shift):\n",
    "        x = ord(x)\n",
    "        if x <= 122 and x >= 93:\n",
    "            if (x + shift) >= 122:\n",
    "                return chr(x + shift - 122 + 93)\n",
    "            else:\n",
    "                return chr(x + shift)\n",
    "        if x <= 90 and x >= 65:\n",
    "            if (x + shift) > 90:\n",
    "                return chr(x + shift - 90 + 65)\n",
    "            else:\n",
    "                return chr(x + shift)\n",
    "        \n",
    "        return str(x + shift)\n",
    "\n",
    "    return ''.join([ to_cipher(x,shift) for x in list(text)])"
   ]
  },
  {
   "cell_type": "code",
   "execution_count": 52,
   "metadata": {
    "colab": {
     "base_uri": "https://localhost:8080/",
     "height": 37
    },
    "colab_type": "code",
    "executionInfo": {
     "elapsed": 541,
     "status": "ok",
     "timestamp": 1598179663332,
     "user": {
      "displayName": "Cristian Fat",
      "photoUrl": "https://lh3.googleusercontent.com/a-/AOh14GjQ8w5Ul2UQlRUwgYCSBfrp7s0ILOQ7z6TNNP84ww=s64",
      "userId": "07117886627892820927"
     },
     "user_tz": -60
    },
    "id": "D8UTK14pztOj",
    "outputId": "0cee3d39-2d4c-4714-acec-5ec753840d9b"
   },
   "outputs": [
    {
     "data": {
      "application/vnd.google.colaboratory.intrinsic+json": {
       "type": "string"
      },
      "text/plain": [
       "'Tailkn]57jamqa57aop57i]cj]i57jqimq]i71'"
      ]
     },
     "execution_count": 52,
     "metadata": {
      "tags": []
     },
     "output_type": "execute_result"
    }
   ],
   "source": [
    "caesar(s,25)"
   ]
  }
 ],
 "metadata": {
  "colab": {
   "authorship_tag": "ABX9TyOftIRSTjNiPSDnWXFo+fXd",
   "collapsed_sections": [],
   "name": "CaesarCipher.ipynb",
   "provenance": []
  },
  "kernelspec": {
   "display_name": "Python 3",
   "language": "python",
   "name": "python3"
  },
  "language_info": {
   "codemirror_mode": {
    "name": "ipython",
    "version": 3
   },
   "file_extension": ".py",
   "mimetype": "text/x-python",
   "name": "python",
   "nbconvert_exporter": "python",
   "pygments_lexer": "ipython3",
   "version": "3.8.5"
  }
 },
 "nbformat": 4,
 "nbformat_minor": 4
}
